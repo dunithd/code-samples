{
 "cells": [
  {
   "cell_type": "code",
   "execution_count": 1,
   "id": "e2e29266-8a47-4321-b60b-664bba916434",
   "metadata": {},
   "outputs": [],
   "source": [
    "import pandas as pd\n",
    "import pyarrow as pa"
   ]
  },
  {
   "cell_type": "code",
   "execution_count": 2,
   "id": "ea002089-f549-4341-bde3-c3b523bdfa28",
   "metadata": {},
   "outputs": [
    {
     "data": {
      "text/html": [
       "<div>\n",
       "<style scoped>\n",
       "    .dataframe tbody tr th:only-of-type {\n",
       "        vertical-align: middle;\n",
       "    }\n",
       "\n",
       "    .dataframe tbody tr th {\n",
       "        vertical-align: top;\n",
       "    }\n",
       "\n",
       "    .dataframe thead th {\n",
       "        text-align: right;\n",
       "    }\n",
       "</style>\n",
       "<table border=\"1\" class=\"dataframe\">\n",
       "  <thead>\n",
       "    <tr style=\"text-align: right;\">\n",
       "      <th></th>\n",
       "      <th>user_id</th>\n",
       "      <th>url</th>\n",
       "      <th>channel</th>\n",
       "      <th>received_at</th>\n",
       "    </tr>\n",
       "  </thead>\n",
       "  <tbody>\n",
       "    <tr>\n",
       "      <th>0</th>\n",
       "      <td>8519</td>\n",
       "      <td>/products/90</td>\n",
       "      <td>organic_search</td>\n",
       "      <td>1742318201</td>\n",
       "    </tr>\n",
       "    <tr>\n",
       "      <th>1</th>\n",
       "      <td>6961</td>\n",
       "      <td>/products/733</td>\n",
       "      <td>organic_search</td>\n",
       "      <td>1742318201</td>\n",
       "    </tr>\n",
       "    <tr>\n",
       "      <th>2</th>\n",
       "      <td>8376</td>\n",
       "      <td>/products/382</td>\n",
       "      <td>referral</td>\n",
       "      <td>1742318201</td>\n",
       "    </tr>\n",
       "    <tr>\n",
       "      <th>3</th>\n",
       "      <td>8483</td>\n",
       "      <td>/products/750</td>\n",
       "      <td>organic_search</td>\n",
       "      <td>1742318201</td>\n",
       "    </tr>\n",
       "    <tr>\n",
       "      <th>4</th>\n",
       "      <td>3241</td>\n",
       "      <td>/products/133</td>\n",
       "      <td>social</td>\n",
       "      <td>1742318201</td>\n",
       "    </tr>\n",
       "    <tr>\n",
       "      <th>...</th>\n",
       "      <td>...</td>\n",
       "      <td>...</td>\n",
       "      <td>...</td>\n",
       "      <td>...</td>\n",
       "    </tr>\n",
       "    <tr>\n",
       "      <th>99995</th>\n",
       "      <td>725</td>\n",
       "      <td>/products/95</td>\n",
       "      <td>display</td>\n",
       "      <td>1742318201</td>\n",
       "    </tr>\n",
       "    <tr>\n",
       "      <th>99996</th>\n",
       "      <td>1062</td>\n",
       "      <td>/products/100</td>\n",
       "      <td>organic_search</td>\n",
       "      <td>1742318201</td>\n",
       "    </tr>\n",
       "    <tr>\n",
       "      <th>99997</th>\n",
       "      <td>5476</td>\n",
       "      <td>/products/37</td>\n",
       "      <td>display</td>\n",
       "      <td>1742318201</td>\n",
       "    </tr>\n",
       "    <tr>\n",
       "      <th>99998</th>\n",
       "      <td>8742</td>\n",
       "      <td>/products/655</td>\n",
       "      <td>social</td>\n",
       "      <td>1742318201</td>\n",
       "    </tr>\n",
       "    <tr>\n",
       "      <th>99999</th>\n",
       "      <td>5721</td>\n",
       "      <td>/products/237</td>\n",
       "      <td>display</td>\n",
       "      <td>1742318201</td>\n",
       "    </tr>\n",
       "  </tbody>\n",
       "</table>\n",
       "<p>100000 rows × 4 columns</p>\n",
       "</div>"
      ],
      "text/plain": [
       "       user_id            url         channel  received_at\n",
       "0         8519   /products/90  organic_search   1742318201\n",
       "1         6961  /products/733  organic_search   1742318201\n",
       "2         8376  /products/382        referral   1742318201\n",
       "3         8483  /products/750  organic_search   1742318201\n",
       "4         3241  /products/133          social   1742318201\n",
       "...        ...            ...             ...          ...\n",
       "99995      725   /products/95         display   1742318201\n",
       "99996     1062  /products/100  organic_search   1742318201\n",
       "99997     5476   /products/37         display   1742318201\n",
       "99998     8742  /products/655          social   1742318201\n",
       "99999     5721  /products/237         display   1742318201\n",
       "\n",
       "[100000 rows x 4 columns]"
      ]
     },
     "execution_count": 2,
     "metadata": {},
     "output_type": "execute_result"
    }
   ],
   "source": [
    "fn = './pageviews.csv'\n",
    "df = pd.read_csv(fn)\n",
    "df"
   ]
  },
  {
   "cell_type": "code",
   "execution_count": 5,
   "id": "4c067a00-8060-4939-a78b-4738924f4be8",
   "metadata": {},
   "outputs": [
    {
     "data": {
      "text/plain": [
       "pyarrow.Table\n",
       "user_id: int64\n",
       "url: string\n",
       "channel: string\n",
       "received_at: int64\n",
       "----\n",
       "user_id: [[8519,6961,8376,8483,3241,...,725,1062,5476,8742,5721]]\n",
       "url: [[\"/products/90\",\"/products/733\",\"/products/382\",\"/products/750\",\"/products/133\",...,\"/products/95\",\"/products/100\",\"/products/37\",\"/products/655\",\"/products/237\"]]\n",
       "channel: [[\"organic_search\",\"organic_search\",\"referral\",\"organic_search\",\"social\",...,\"display\",\"organic_search\",\"display\",\"social\",\"display\"]]\n",
       "received_at: [[1742318201,1742318201,1742318201,1742318201,1742318201,...,1742318201,1742318201,1742318201,1742318201,1742318201]]"
      ]
     },
     "execution_count": 5,
     "metadata": {},
     "output_type": "execute_result"
    }
   ],
   "source": [
    "table = pa.Table.from_pandas(df)\n",
    "table"
   ]
  },
  {
   "cell_type": "code",
   "execution_count": 6,
   "id": "8f8ab7fa-6195-4255-8d69-e6865653d756",
   "metadata": {},
   "outputs": [
    {
     "data": {
      "text/plain": [
       "100000"
      ]
     },
     "execution_count": 6,
     "metadata": {},
     "output_type": "execute_result"
    }
   ],
   "source": [
    "len(table)"
   ]
  },
  {
   "cell_type": "code",
   "execution_count": 8,
   "id": "b14b9d42-94cd-49d5-bd15-de1834744041",
   "metadata": {},
   "outputs": [],
   "source": [
    "import pyarrow.parquet as pq\n",
    "\n",
    "pq.write_table(table, 'pageviews.parquet')"
   ]
  },
  {
   "cell_type": "code",
   "execution_count": 9,
   "id": "4415ca56-21da-4d08-858f-6000c5e2ec3f",
   "metadata": {},
   "outputs": [],
   "source": [
    "table2 = pq.read_table('pageviews.parquet')"
   ]
  },
  {
   "cell_type": "code",
   "execution_count": 11,
   "id": "caf42d80-28c3-4266-92b3-a3c00e1b375d",
   "metadata": {},
   "outputs": [
    {
     "data": {
      "text/plain": [
       "pyarrow.Table\n",
       "user_id: int64\n",
       "channel: string\n",
       "----\n",
       "user_id: [[8519,6961,8376,8483,3241,...,725,1062,5476,8742,5721]]\n",
       "channel: [[\"organic_search\",\"organic_search\",\"referral\",\"organic_search\",\"social\",...,\"display\",\"organic_search\",\"display\",\"social\",\"display\"]]"
      ]
     },
     "execution_count": 11,
     "metadata": {},
     "output_type": "execute_result"
    }
   ],
   "source": [
    "projected_table = pq.read_table('pageviews.parquet', columns=['user_id', 'channel'])\n",
    "projected_table"
   ]
  },
  {
   "cell_type": "code",
   "execution_count": 12,
   "id": "4d20b340-be53-48ea-9b59-94cb9da6c4ee",
   "metadata": {},
   "outputs": [
    {
     "name": "stdout",
     "output_type": "stream",
     "text": [
      "Number of row groups: 1\n",
      "\n",
      "File metadata:\n",
      "<pyarrow._parquet.FileMetaData object at 0xffff47be9760>\n",
      "  created_by: parquet-cpp-arrow version 19.0.1\n",
      "  num_columns: 4\n",
      "  num_rows: 100000\n",
      "  num_row_groups: 1\n",
      "  format_version: 2.6\n",
      "  serialized_size: 2830\n"
     ]
    }
   ],
   "source": [
    "parquet_file = pq.ParquetFile('pageviews.parquet')\n",
    "print(f\"Number of row groups: {parquet_file.num_row_groups}\")\n",
    "print(\"\\nFile metadata:\")\n",
    "print(parquet_file.metadata)"
   ]
  },
  {
   "cell_type": "code",
   "execution_count": 13,
   "id": "e5873df4-a9bb-4fde-9eb3-4272bf71c11f",
   "metadata": {},
   "outputs": [
    {
     "name": "stdout",
     "output_type": "stream",
     "text": [
      "\n",
      "Row group 0 metadata:\n",
      "<pyarrow._parquet.RowGroupMetaData object at 0xffff44942f70>\n",
      "  num_columns: 4\n",
      "  num_rows: 100000\n",
      "  total_byte_size: 435398\n",
      "  sorting_columns: ()\n"
     ]
    }
   ],
   "source": [
    "for i in range(parquet_file.num_row_groups):\n",
    "    print(f\"\\nRow group {i} metadata:\")\n",
    "    print(parquet_file.metadata.row_group(i))"
   ]
  },
  {
   "cell_type": "code",
   "execution_count": 14,
   "id": "9d30c028-7927-41cc-a318-e420909b370f",
   "metadata": {},
   "outputs": [],
   "source": [
    "pq.write_to_dataset(\n",
    "    table,\n",
    "    root_path='pageviews_ds',\n",
    "    partition_cols=['channel']\n",
    ")"
   ]
  },
  {
   "cell_type": "code",
   "execution_count": 15,
   "id": "e3990ea5-b9ef-4ecd-8015-e0249cbbbb57",
   "metadata": {},
   "outputs": [
    {
     "name": "stdout",
     "output_type": "stream",
     "text": [
      "pyarrow.Table\n",
      "user_id: int64\n",
      "url: string\n",
      "received_at: int64\n",
      "channel: dictionary<values=string, indices=int32, ordered=0>\n",
      "----\n",
      "user_id: [[7307,164,9396,1266,5369,...,6776,9405,1394,4782,6730],[2485,1828,6425,3141,2040,...,4514,9256,3733,2380,5992],...,[6899,4167,9593,2043,1729,...,7547,1089,9164,8783,813],[6304,4872,473,3692,8204,...,5701,8199,3267,8556,8742]]\n",
      "url: [[\"/products/87\",\"/products/190\",\"/products/722\",\"/products/390\",\"/products/159\",...,\"/products/355\",\"/products/50\",\"/products/335\",\"/products/529\",\"/products/786\"],[\"/products/924\",\"/products/860\",\"/products/545\",\"/products/747\",\"/products/971\",...,\"/products/896\",\"/products/381\",\"/products/889\",\"/products/307\",\"/products/466\"],...,[\"/products/183\",\"/products/710\",\"/products/318\",\"/products/281\",\"/products/308\",...,\"/products/583\",\"/products/830\",\"/products/333\",\"/products/773\",\"/products/831\"],[\"/products/16\",\"/products/838\",\"/products/61\",\"/products/56\",\"/products/927\",...,\"/products/500\",\"/products/427\",\"/products/209\",\"/products/464\",\"/products/655\"]]\n",
      "received_at: [[1742318201,1742318201,1742318201,1742318201,1742318201,...,1742318201,1742318201,1742318201,1742318201,1742318201],[1742318201,1742318201,1742318201,1742318201,1742318201,...,1742318201,1742318201,1742318201,1742318201,1742318201],...,[1742318201,1742318201,1742318201,1742318201,1742318201,...,1742318201,1742318201,1742318201,1742318201,1742318201],[1742318201,1742318201,1742318201,1742318201,1742318201,...,1742318201,1742318201,1742318201,1742318201,1742318201]]\n",
      "channel: [  -- dictionary:\n",
      "[\"display\",\"organic_search\",\"paid_search\",\"referral\",\"social\"]  -- indices:\n",
      "[0,0,0,0,0,...,0,0,0,0,0],  -- dictionary:\n",
      "[\"display\",\"organic_search\",\"paid_search\",\"referral\",\"social\"]  -- indices:\n",
      "[0,0,0,0,0,...,0,0,0,0,0],...,  -- dictionary:\n",
      "[\"display\",\"organic_search\",\"paid_search\",\"referral\",\"social\"]  -- indices:\n",
      "[4,4,4,4,4,...,4,4,4,4,4],  -- dictionary:\n",
      "[\"display\",\"organic_search\",\"paid_search\",\"referral\",\"social\"]  -- indices:\n",
      "[4,4,4,4,4,...,4,4,4,4,4]]\n"
     ]
    }
   ],
   "source": [
    "dataset = pq.read_table('pageviews_ds')\n",
    "print(dataset)"
   ]
  },
  {
   "cell_type": "code",
   "execution_count": 18,
   "id": "49b22e01-1639-477b-92e9-8d86bb525543",
   "metadata": {},
   "outputs": [
    {
     "name": "stdout",
     "output_type": "stream",
     "text": [
      "pyarrow.Table\n",
      "user_id: int64\n",
      "url: string\n",
      "received_at: int64\n",
      "channel: dictionary<values=string, indices=int32, ordered=0>\n",
      "----\n",
      "user_id: [[3241,6881,621,8199,794,...,9266,1794,9673,4592,3769],[8274,8051,8770,7099,6426,...,7341,4027,7813,9406,7495],...,[6899,4167,9593,2043,1729,...,7547,1089,9164,8783,813],[6304,4872,473,3692,8204,...,5701,8199,3267,8556,8742]]\n",
      "url: [[\"/products/133\",\"/products/995\",\"/products/63\",\"/products/856\",\"/products/104\",...,\"/products/323\",\"/products/939\",\"/products/712\",\"/products/775\",\"/products/333\"],[\"/products/150\",\"/products/712\",\"/products/516\",\"/products/851\",\"/products/641\",...,\"/products/981\",\"/products/426\",\"/products/236\",\"/products/458\",\"/products/3\"],...,[\"/products/183\",\"/products/710\",\"/products/318\",\"/products/281\",\"/products/308\",...,\"/products/583\",\"/products/830\",\"/products/333\",\"/products/773\",\"/products/831\"],[\"/products/16\",\"/products/838\",\"/products/61\",\"/products/56\",\"/products/927\",...,\"/products/500\",\"/products/427\",\"/products/209\",\"/products/464\",\"/products/655\"]]\n",
      "received_at: [[1742318201,1742318201,1742318201,1742318201,1742318201,...,1742318201,1742318201,1742318201,1742318201,1742318201],[1742318201,1742318201,1742318201,1742318201,1742318201,...,1742318201,1742318201,1742318201,1742318201,1742318201],...,[1742318201,1742318201,1742318201,1742318201,1742318201,...,1742318201,1742318201,1742318201,1742318201,1742318201],[1742318201,1742318201,1742318201,1742318201,1742318201,...,1742318201,1742318201,1742318201,1742318201,1742318201]]\n",
      "channel: [  -- dictionary:\n",
      "[\"display\",\"organic_search\",\"paid_search\",\"referral\",\"social\"]  -- indices:\n",
      "[4,4,4,4,4,...,4,4,4,4,4],  -- dictionary:\n",
      "[\"display\",\"organic_search\",\"paid_search\",\"referral\",\"social\"]  -- indices:\n",
      "[4,4,4,4,4,...,4,4,4,4,4],...,  -- dictionary:\n",
      "[\"display\",\"organic_search\",\"paid_search\",\"referral\",\"social\"]  -- indices:\n",
      "[4,4,4,4,4,...,4,4,4,4,4],  -- dictionary:\n",
      "[\"display\",\"organic_search\",\"paid_search\",\"referral\",\"social\"]  -- indices:\n",
      "[4,4,4,4,4,...,4,4,4,4,4]]\n"
     ]
    }
   ],
   "source": [
    "filters = [('channel', '=', 'social')]\n",
    "dataset = pq.read_table('pageviews_ds', filters=filters)\n",
    "print(dataset)"
   ]
  },
  {
   "cell_type": "code",
   "execution_count": null,
   "id": "d87994d8-41c3-4483-8750-244e0c6601d5",
   "metadata": {},
   "outputs": [],
   "source": []
  }
 ],
 "metadata": {
  "kernelspec": {
   "display_name": "Python 3 (ipykernel)",
   "language": "python",
   "name": "python3"
  },
  "language_info": {
   "codemirror_mode": {
    "name": "ipython",
    "version": 3
   },
   "file_extension": ".py",
   "mimetype": "text/x-python",
   "name": "python",
   "nbconvert_exporter": "python",
   "pygments_lexer": "ipython3",
   "version": "3.12.9"
  }
 },
 "nbformat": 4,
 "nbformat_minor": 5
}
